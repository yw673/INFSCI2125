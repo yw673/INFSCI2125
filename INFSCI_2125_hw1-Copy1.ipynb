{
 "cells": [
  {
   "cell_type": "markdown",
   "metadata": {},
   "source": [
    "# Homework  1\n",
    "## Yangyin Wang"
   ]
  },
  {
   "cell_type": "markdown",
   "metadata": {},
   "source": [
    "Question 1(a)"
   ]
  },
  {
   "cell_type": "markdown",
   "metadata": {},
   "source": [
    "$$n=\\sum\\limits_{i=1}^T k*(k-1)^{i - 1}$$\n",
    "$$k\\sum\\limits_{i=1}^T (k-1)^{i - 1}$$\n",
    "$$k*\\frac{1-(k-1)^{T}}{1-(k-1)}\\\\n = k\\frac{1-(k-1)^{T}}{2-k}$$"
   ]
  },
  {
   "cell_type": "markdown",
   "metadata": {},
   "source": [
    "Question 1(b)"
   ]
  },
  {
   "cell_type": "markdown",
   "metadata": {},
   "source": [
    "$$N = k\\frac{1-(k-1)^{T_{max}}}{2-k}$$\n",
    "$$\\frac{N-1}{k}(2-k)=1-(k-1)^{T_{max}}$$\n",
    "$$\\frac{2N-Nk-2+k}{k}-1=-(k-1)^{T_{max}}$$\n",
    "$$\\frac{2+Nk-2N}{k}=(k-1)^{T_{max}}$$\n",
    "$$\\ln(\\frac{2+Nk-2N}{k})=T_{max}*\\ln(k-1)$$\n",
    "$$T_{max}=\\frac{\\ln(\\frac{2+Nk-2N}{k})}{\\ln(k-1)}\\\\d_{max}=2*T_{max}$$\n",
    "$$d_{max}=2*\\frac{\\ln(\\frac{2+Nk-2N}{k})}{\\ln(k-1)}$$"
   ]
  },
  {
   "cell_type": "markdown",
   "metadata": {},
   "source": [
    "Question 1(c)"
   ]
  },
  {
   "cell_type": "markdown",
   "metadata": {},
   "source": [
    "from 1(b) we get:$$\\frac{2+Nk-2N}{k}=(k-1)^{T_{max}}$$\n",
    "then: $$N(k-2)=(k-1)^{T}*k-2$$\n",
    "$$N=\\frac{(k-1)^{T}*k-2}{k-2}$$\n",
    "$$N = (k-1)^{T}$$\n",
    "N exponentially increase with k, which means k<<N. So this network display the small-world property."
   ]
  },
  {
   "cell_type": "markdown",
   "metadata": {},
   "source": [
    "Question 2"
   ]
  },
  {
   "cell_type": "markdown",
   "metadata": {},
   "source": [
    "We have:\n",
    "$$P(k_i=k)={N-1\\choose k}p^k(1-p)^{N-1-k}$$\n",
    "We assume N>>k, therefore:\n",
    "$${N-1\\choose k}=\\frac{(N-1)(N-1-1)(N-1-2)...(N-1-k+1)}{k!}\\approx \\frac{(N-1)^k}{k!}$$\n",
    "Then:\n",
    "$$\\ln[(1-p)^{(N-1)-k}] = (N-1-k)\\ln(1-\\frac{<k>}{N-1})$$\n",
    "Using Taylor Series Expansion:\n",
    "$$\\ln[(1-p)^{N-1-k}]\\approx (N-1-k)\\frac{<k>}{N-1}=<k>(1-\\frac{k}{N-1})\\approx -<k>$$\n",
    "$$ (1-p)^{N-1-k}=e^{-<k>}$$\n",
    "Back to the original function:\n",
    "$$P(k_i=k)={N-1\\choose k}p^k(1-p)^{N-1-k}=\\frac{(N-1)^k}{N-1}p^ke^{-<k>}$$\n",
    "$$p_k=e^{-<k>}\\frac{<k>^k}{k!}$$\n"
   ]
  },
  {
   "cell_type": "markdown",
   "metadata": {},
   "source": [
    "Question 4"
   ]
  },
  {
   "cell_type": "code",
   "execution_count": 6,
   "metadata": {},
   "outputs": [],
   "source": [
    "import networkx\n",
    "G = networkx.random_tree(100)"
   ]
  },
  {
   "cell_type": "code",
   "execution_count": 12,
   "metadata": {},
   "outputs": [
    {
     "data": {
      "image/png": "[encoded data removed]",
      "text/plain": [
       "<Figure size 432x288 with 1 Axes>"
      ]
     },
     "metadata": {},
     "output_type": "display_data"
    }
   ],
   "source": [
    "networkx.draw(G, node_size=50)"
   ]
  },
  {
   "cell_type": "markdown",
   "metadata": {},
   "source": [
    "Question 4(a)"
   ]
  },
  {
   "cell_type": "code",
   "execution_count": 24,
   "metadata": {},
   "outputs": [
    {
     "data": {
      "text/plain": [
       "4"
      ]
     },
     "execution_count": 24,
     "metadata": {},
     "output_type": "execute_result"
    }
   ],
   "source": [
    "def max_degree(G):\n",
    "    l = []\n",
    "    for i in G.nodes():\n",
    "        l.append(G.degree(i))\n",
    "    return max(l)\n",
    "\n",
    "max_degree(G)"
   ]
  },
  {
   "cell_type": "markdown",
   "metadata": {},
   "source": [
    "Question 4(b)"
   ]
  },
  {
   "cell_type": "code",
   "execution_count": 37,
   "metadata": {},
   "outputs": [
    {
     "data": {
      "text/plain": [
       "[]"
      ]
     },
     "execution_count": 37,
     "metadata": {},
     "output_type": "execute_result"
    }
   ],
   "source": [
    "def find_common_neighbor(G,node1, node2):\n",
    "    neighbor1_list = []\n",
    "    neighbor2_list = []\n",
    "    common_list = []\n",
    "    for neighbor in G.neighbors(node1):\n",
    "        neighbor1_list.append(neighbor)\n",
    "    for neighbor in G.neighbors(node2):\n",
    "        neighbor2_list.append(neighbor)\n",
    "        \n",
    "    for i in neighbor1_list:\n",
    "        if i in neighbor2_list:\n",
    "            common_list.append(i)\n",
    "    return common_list\n",
    "\n",
    "\n",
    "find_common_neighbor(G,13,19)"
   ]
  },
  {
   "cell_type": "markdown",
   "metadata": {},
   "source": [
    "Question 4(c)"
   ]
  },
  {
   "cell_type": "code",
   "execution_count": 81,
   "metadata": {},
   "outputs": [],
   "source": [
    "G = networkx.generators.random_graphs.watts_strogatz_graph(n= 1000, k =10, p = 0)\n",
    "l0 = networkx.average_shortest_path_length(G)\n",
    "c0 = networkx.average_clustering(G)"
   ]
  },
  {
   "cell_type": "code",
   "execution_count": 83,
   "metadata": {},
   "outputs": [],
   "source": [
    "p = (0.0001, 0.0003, 0.0006, 0.0009, 0.002,0.005,0.009, 0.02, 0.05, 0.09, 0.2, 0.5, 0.9, 1)\n",
    "list_yl = []\n",
    "list_yc = []\n",
    "for prob in p:\n",
    "    G = networkx.generators.random_graphs.watts_strogatz_graph(n= 1000, k =10, p = prob)\n",
    "    list_yl.append(networkx.average_shortest_path_length(G)/l0)\n",
    "    list_yc.append(networkx.average_clustering(G)/c0)\n",
    "    "
   ]
  },
  {
   "cell_type": "code",
   "execution_count": 106,
   "metadata": {
    "scrolled": true
   },
   "outputs": [
    {
     "data": {
      "text/plain": [
       "<matplotlib.legend.Legend at 0xa22662d90>"
      ]
     },
     "execution_count": 106,
     "metadata": {},
     "output_type": "execute_result"
    },
    {
     "data": {
      "image/png": "[encoded data removed]",
      "text/plain": [
       "<Figure size 432x288 with 1 Axes>"
      ]
     },
     "metadata": {
      "needs_background": "light"
     },
     "output_type": "display_data"
    }
   ],
   "source": [
    "import matplotlib.pyplot as plt\n",
    "\n",
    "\n",
    "plt.scatter(p, list_yl)\n",
    "plt.scatter(p, list_yc)\n",
    "plt.legend(['L(p)/L(0)', 'C(p)/C(0)'])\n"
   ]
  }
 ],
 "metadata": {
  "kernelspec": {
   "display_name": "Python 3",
   "language": "python",
   "name": "python3"
  },
  "language_info": {
   "codemirror_mode": {
    "name": "ipython",
    "version": 3
   },
   "file_extension": ".py",
   "mimetype": "text/x-python",
   "name": "python",
   "nbconvert_exporter": "python",
   "pygments_lexer": "ipython3",
   "version": "3.7.4"
  }
 },
 "nbformat": 4,
 "nbformat_minor": 2
}
